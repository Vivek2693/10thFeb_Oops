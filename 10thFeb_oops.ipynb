{
 "cells": [
  {
   "cell_type": "markdown",
   "id": "2c0b12cc-568e-4461-b544-972645345c04",
   "metadata": {},
   "source": [
    "Q1. Which function is used to open a file? What are the different modes of opening a file? Explain each mode\n",
    "of file opening."
   ]
  },
  {
   "cell_type": "raw",
   "id": "1a9c60a2-15ea-4dfa-aef3-d215d12a4f66",
   "metadata": {},
   "source": [
    "Q1. The open() function is used to open a file in Python. It returns a file object that allows you to perform various operations on the file. The open() function takes two parameters: the file name or path and the mode in which the file should be opened.\n",
    "\n",
    "Different modes of opening a file in Python are:\n",
    "\n",
    "\"r\": Read mode (default). Opens a file for reading.\n",
    "\"w\": Write mode. Opens a file for writing. Creates a new file if it doesn't exist or truncates the existing file.\n",
    "\"a\": Append mode. Opens a file for appending. Creates a new file if it doesn't exist.\n",
    "\"x\": Exclusive creation mode. Opens a file for exclusive creation. Fails if the file already exists.\n",
    "\"b\": Binary mode. Opens a file in binary mode.\n",
    "\"t\": Text mode (default). Opens a file in text mode.\n",
    "\"+\": Update mode. Opens a file for updating (reading and writing)."
   ]
  },
  {
   "cell_type": "markdown",
   "id": "17ebbfdd-ef16-49ef-9b75-4fae61086ab6",
   "metadata": {},
   "source": [
    "Read mode (\"r\"): Opens a file for reading. The file pointer is placed at the beginning of the file. If the file does not exist, it raises a FileNotFoundError.\n",
    "Write mode (\"w\"): Opens a file for writing. If the file already exists, its contents are truncated. If the file does not exist, a new file is created. Use with caution as it will erase the previous contents of the file.\n",
    "Append mode (\"a\"): Opens a file for appending. The file pointer is placed at the end of the file. If the file does not exist, a new file is created. New data is added to the end of the file without affecting the existing contents.\n",
    "Exclusive creation mode (\"x\"): Opens a file for exclusive creation. It raises a FileExistsError if the file already exists.\n",
    "Binary mode (\"b\"): Opens a file in binary mode. It is used for non-text files, such as images or binary data.\n",
    "Text mode (\"t\"): Opens a file in text mode (default). It is used for text files.\n",
    "Update mode (\"+\"): Opens a file for updating (reading and writing)."
   ]
  },
  {
   "cell_type": "markdown",
   "id": "61850359-e0ac-4b37-9cb3-ce82c9e62b99",
   "metadata": {},
   "source": [
    "Q2. Why close() function is used? Why is it important to close a file?"
   ]
  },
  {
   "cell_type": "markdown",
   "id": "f671a40f-7319-4988-884a-8b1827e34825",
   "metadata": {},
   "source": [
    "Q2. The close() function is used to close a file in Python. It is important to close a file after you have finished working with it to release the resources associated with the file. Closing a file ensures that any pending writes are flushed to the disk and the file is no longer locked by your program.\n",
    "\n",
    "If you do not close a file explicitly, Python's garbage collector may eventually close it for you, but it's considered good practice to close files explicitly using the close() method. This helps in managing system resources efficiently and prevents potential issues, especially when working with a large number of files."
   ]
  },
  {
   "cell_type": "markdown",
   "id": "54ec41af-66df-49f4-b6e8-c43b25c0c341",
   "metadata": {},
   "source": [
    "Q3. Write a python program to create a text file. Write ‘I want to become a Data Scientist’ in that file. Then\n",
    "close the file. Open this file and read the content of the file."
   ]
  },
  {
   "cell_type": "code",
   "execution_count": 2,
   "id": "23d5664c-3769-4e93-866f-18a9ae03bb51",
   "metadata": {},
   "outputs": [
    {
     "name": "stdout",
     "output_type": "stream",
     "text": [
      "I want to become a Data Scientist\n"
     ]
    }
   ],
   "source": [
    "# Creating a text file and writing content to it\n",
    "file = open(\"sample.txt\", \"w\")\n",
    "file.write(\"I want to become a Data Scientist\")\n",
    "file.close()\n",
    "\n",
    "# Opening the file in read mode and reading its content\n",
    "file = open(\"sample.txt\", \"r\")\n",
    "content = file.read()\n",
    "file.close()\n",
    "\n",
    "print(content)\n"
   ]
  },
  {
   "cell_type": "markdown",
   "id": "b528d75a-56ec-45a8-a01b-20c8d94a13d8",
   "metadata": {},
   "source": [
    "Q4. Explain the following with python code: read(), readline() and readlines()."
   ]
  },
  {
   "cell_type": "markdown",
   "id": "e4887fa0-3299-4a04-98e0-c46f2091ee69",
   "metadata": {},
   "source": [
    "read(): This method is used to read the entire content of a file as a single string. It reads the number of characters specified as an argument or reads the entire file if no argument is provided."
   ]
  },
  {
   "cell_type": "code",
   "execution_count": 3,
   "id": "17f3a5fb-6d9e-42a6-bdc4-92c20e1e08a1",
   "metadata": {},
   "outputs": [
    {
     "name": "stdout",
     "output_type": "stream",
     "text": [
      "I want to become a Data Scientist\n"
     ]
    }
   ],
   "source": [
    "file = open(\"sample.txt\", \"r\")\n",
    "content = file.read()\n",
    "file.close()\n",
    "\n",
    "print(content)\n"
   ]
  },
  {
   "cell_type": "markdown",
   "id": "e722bb59-1288-4d20-b72d-a5b166a2dfca",
   "metadata": {},
   "source": [
    "readline(): This method is used to read a single line from a file. It reads characters from the current position until it encounters a newline character ('\\n') or reaches the end of the file."
   ]
  },
  {
   "cell_type": "code",
   "execution_count": 5,
   "id": "b88d622f-e489-482a-9ab4-2a0c299bf77d",
   "metadata": {},
   "outputs": [
    {
     "name": "stdout",
     "output_type": "stream",
     "text": [
      "I want to become a Data Scientist\n"
     ]
    }
   ],
   "source": [
    "file = open(\"sample.txt\", \"r\")\n",
    "line = file.readline()\n",
    "file.close()\n",
    "\n",
    "print(line)\n"
   ]
  },
  {
   "cell_type": "markdown",
   "id": "1d1b12ff-72de-4967-9e2e-3094bd3f4be2",
   "metadata": {},
   "source": [
    "readlines(): This method is used to read all lines of a file and return them as a list of strings. Each string represents a line from the file, including the newline character ('\\n')."
   ]
  },
  {
   "cell_type": "code",
   "execution_count": 6,
   "id": "9f46bf2a-d931-4e82-badd-6c6d39876a29",
   "metadata": {},
   "outputs": [
    {
     "name": "stdout",
     "output_type": "stream",
     "text": [
      "I want to become a Data Scientist\n"
     ]
    }
   ],
   "source": [
    "file = open(\"sample.txt\", \"r\")\n",
    "lines = file.readlines()\n",
    "file.close()\n",
    "\n",
    "for line in lines:\n",
    "    print(line)\n"
   ]
  },
  {
   "cell_type": "markdown",
   "id": "34285af9-6258-4e68-8713-3fd9b6390736",
   "metadata": {},
   "source": [
    "Q5. Explain why with statement is used with open(). What is the advantage of using with statement and\n",
    "open() together?"
   ]
  },
  {
   "cell_type": "markdown",
   "id": "e28dfe82-e17f-4424-be12-a4b3c7ad9897",
   "metadata": {},
   "source": [
    " The with statement is used with the open() function in Python to provide a context for working with files. It ensures that the file is properly closed after the block of code inside the with statement is executed, even if an exception occurs.\n",
    "\n",
    "The advantage of using the with statement with open() is that it automatically takes care of closing the file, so you don't need to explicitly call the close() method. This helps in writing cleaner and more concise code by reducing the chances of forgetting to close the file."
   ]
  },
  {
   "cell_type": "code",
   "execution_count": 7,
   "id": "a7101559-c576-44c6-8237-a4fd15374dbc",
   "metadata": {},
   "outputs": [
    {
     "name": "stdout",
     "output_type": "stream",
     "text": [
      "I want to become a Data Scientist\n"
     ]
    }
   ],
   "source": [
    "with open(\"sample.txt\", \"r\") as file:\n",
    "    content = file.read()\n",
    "\n",
    "print(content)\n"
   ]
  },
  {
   "cell_type": "code",
   "execution_count": null,
   "id": "f145c280-9c0d-4f13-8a31-581c1f613a9b",
   "metadata": {},
   "outputs": [],
   "source": []
  },
  {
   "cell_type": "markdown",
   "id": "8836e0ee-f490-4130-9891-e9baca459e0e",
   "metadata": {},
   "source": [
    "In Python, the write() function is used to write data to a file. It takes a string as an argument and writes it to the file."
   ]
  },
  {
   "cell_type": "code",
   "execution_count": null,
   "id": "1c68476c-d9e2-45ec-a923-b5b7bf7cf1d5",
   "metadata": {},
   "outputs": [],
   "source": []
  }
 ],
 "metadata": {
  "kernelspec": {
   "display_name": "Python 3 (ipykernel)",
   "language": "python",
   "name": "python3"
  },
  "language_info": {
   "codemirror_mode": {
    "name": "ipython",
    "version": 3
   },
   "file_extension": ".py",
   "mimetype": "text/x-python",
   "name": "python",
   "nbconvert_exporter": "python",
   "pygments_lexer": "ipython3",
   "version": "3.10.8"
  }
 },
 "nbformat": 4,
 "nbformat_minor": 5
}
